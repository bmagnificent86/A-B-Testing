{
 "cells": [
  {
   "cell_type": "markdown",
   "metadata": {},
   "source": [
    "# Capstone 2: narrative analytics and experimentation"
   ]
  },
  {
   "cell_type": "code",
   "execution_count": 23,
   "metadata": {},
   "outputs": [],
   "source": [
    "import pandas as pd\n",
    "import numpy as np\n",
    "import random\n",
    "import matplotlib.pyplot as plt\n",
    "%matplotlib inline\n",
    "\n",
    "#set the seed to assure you get the same answers, otherwise, you could remove the following line\n",
    "random.seed(100)\n",
    "\n",
    "file = 'ab_data.csv'\n",
    "df = pd.read_csv(file)"
   ]
  },
  {
   "cell_type": "code",
   "execution_count": 24,
   "metadata": {},
   "outputs": [
    {
     "data": {
      "text/html": [
       "<div>\n",
       "<style scoped>\n",
       "    .dataframe tbody tr th:only-of-type {\n",
       "        vertical-align: middle;\n",
       "    }\n",
       "\n",
       "    .dataframe tbody tr th {\n",
       "        vertical-align: top;\n",
       "    }\n",
       "\n",
       "    .dataframe thead th {\n",
       "        text-align: right;\n",
       "    }\n",
       "</style>\n",
       "<table border=\"1\" class=\"dataframe\">\n",
       "  <thead>\n",
       "    <tr style=\"text-align: right;\">\n",
       "      <th></th>\n",
       "      <th>user_id</th>\n",
       "      <th>timestamp</th>\n",
       "      <th>group</th>\n",
       "      <th>landing_page</th>\n",
       "      <th>converted</th>\n",
       "    </tr>\n",
       "  </thead>\n",
       "  <tbody>\n",
       "    <tr>\n",
       "      <th>0</th>\n",
       "      <td>851104</td>\n",
       "      <td>2017-01-21 22:11:48.556739</td>\n",
       "      <td>control</td>\n",
       "      <td>old_page</td>\n",
       "      <td>0</td>\n",
       "    </tr>\n",
       "    <tr>\n",
       "      <th>1</th>\n",
       "      <td>804228</td>\n",
       "      <td>2017-01-12 08:01:45.159739</td>\n",
       "      <td>control</td>\n",
       "      <td>old_page</td>\n",
       "      <td>0</td>\n",
       "    </tr>\n",
       "    <tr>\n",
       "      <th>2</th>\n",
       "      <td>661590</td>\n",
       "      <td>2017-01-11 16:55:06.154213</td>\n",
       "      <td>treatment</td>\n",
       "      <td>new_page</td>\n",
       "      <td>0</td>\n",
       "    </tr>\n",
       "    <tr>\n",
       "      <th>3</th>\n",
       "      <td>853541</td>\n",
       "      <td>2017-01-08 18:28:03.143765</td>\n",
       "      <td>treatment</td>\n",
       "      <td>new_page</td>\n",
       "      <td>0</td>\n",
       "    </tr>\n",
       "    <tr>\n",
       "      <th>4</th>\n",
       "      <td>864975</td>\n",
       "      <td>2017-01-21 01:52:26.210827</td>\n",
       "      <td>control</td>\n",
       "      <td>old_page</td>\n",
       "      <td>1</td>\n",
       "    </tr>\n",
       "  </tbody>\n",
       "</table>\n",
       "</div>"
      ],
      "text/plain": [
       "   user_id                   timestamp      group landing_page  converted\n",
       "0   851104  2017-01-21 22:11:48.556739    control     old_page          0\n",
       "1   804228  2017-01-12 08:01:45.159739    control     old_page          0\n",
       "2   661590  2017-01-11 16:55:06.154213  treatment     new_page          0\n",
       "3   853541  2017-01-08 18:28:03.143765  treatment     new_page          0\n",
       "4   864975  2017-01-21 01:52:26.210827    control     old_page          1"
      ]
     },
     "execution_count": 24,
     "metadata": {},
     "output_type": "execute_result"
    }
   ],
   "source": [
    "df.head()"
   ]
  },
  {
   "cell_type": "markdown",
   "metadata": {},
   "source": [
    "# PROBABILITY:"
   ]
  },
  {
   "cell_type": "code",
   "execution_count": 25,
   "metadata": {},
   "outputs": [
    {
     "data": {
      "text/plain": [
       "294478"
      ]
     },
     "execution_count": 25,
     "metadata": {},
     "output_type": "execute_result"
    }
   ],
   "source": [
    "# allows us to see the rows of the dataset \n",
    "df.shape[0]"
   ]
  },
  {
   "cell_type": "markdown",
   "metadata": {},
   "source": [
    "Retrieving the unique number of ID's "
   ]
  },
  {
   "cell_type": "code",
   "execution_count": 26,
   "metadata": {},
   "outputs": [
    {
     "data": {
      "text/plain": [
       "290584"
      ]
     },
     "execution_count": 26,
     "metadata": {},
     "output_type": "execute_result"
    }
   ],
   "source": [
    "df.user_id.nunique()"
   ]
  },
  {
   "cell_type": "markdown",
   "metadata": {},
   "source": [
    "The proportion of users converted."
   ]
  },
  {
   "cell_type": "code",
   "execution_count": 27,
   "metadata": {},
   "outputs": [
    {
     "data": {
      "text/plain": [
       "'0.1197'"
      ]
     },
     "execution_count": 27,
     "metadata": {},
     "output_type": "execute_result"
    }
   ],
   "source": [
    "\"%.4f\" % (df.converted.sum() / df.converted.count())"
   ]
  },
  {
   "cell_type": "markdown",
   "metadata": {},
   "source": [
    "Samples on two demonsions grouped by control & treatment and new & old page\n",
    "\n"
   ]
  },
  {
   "cell_type": "code",
   "execution_count": 28,
   "metadata": {},
   "outputs": [
    {
     "data": {
      "text/plain": [
       "group      landing_page\n",
       "control    new_page          1928\n",
       "           old_page        145274\n",
       "treatment  new_page        145311\n",
       "           old_page          1965\n",
       "Name: converted, dtype: int64"
      ]
     },
     "execution_count": 28,
     "metadata": {},
     "output_type": "execute_result"
    }
   ],
   "source": [
    "df.groupby(['group','landing_page']).count()['converted']"
   ]
  },
  {
   "cell_type": "markdown",
   "metadata": {},
   "source": [
    "Checking for missing values"
   ]
  },
  {
   "cell_type": "code",
   "execution_count": 29,
   "metadata": {},
   "outputs": [
    {
     "data": {
      "text/plain": [
       "user_id         0\n",
       "timestamp       0\n",
       "group           0\n",
       "landing_page    0\n",
       "converted       0\n",
       "dtype: int64"
      ]
     },
     "execution_count": 29,
     "metadata": {},
     "output_type": "execute_result"
    }
   ],
   "source": [
    "df.isnull().sum()"
   ]
  },
  {
   "cell_type": "markdown",
   "metadata": {},
   "source": [
    "Create a new dataset where the treatment group is the new_page and the control group is the old_page"
   ]
  },
  {
   "cell_type": "code",
   "execution_count": 48,
   "metadata": {},
   "outputs": [],
   "source": [
    "df2 = df.query(\"group == 'control' & landing_page == 'old_page'\")"
   ]
  },
  {
   "cell_type": "code",
   "execution_count": 49,
   "metadata": {},
   "outputs": [],
   "source": [
    "df3 = df.query(\"group == 'treatment' & landing_page == 'new_page'\")"
   ]
  },
  {
   "cell_type": "code",
   "execution_count": 50,
   "metadata": {},
   "outputs": [
    {
     "data": {
      "text/html": [
       "<div>\n",
       "<style scoped>\n",
       "    .dataframe tbody tr th:only-of-type {\n",
       "        vertical-align: middle;\n",
       "    }\n",
       "\n",
       "    .dataframe tbody tr th {\n",
       "        vertical-align: top;\n",
       "    }\n",
       "\n",
       "    .dataframe thead th {\n",
       "        text-align: right;\n",
       "    }\n",
       "</style>\n",
       "<table border=\"1\" class=\"dataframe\">\n",
       "  <thead>\n",
       "    <tr style=\"text-align: right;\">\n",
       "      <th></th>\n",
       "      <th>user_id</th>\n",
       "      <th>timestamp</th>\n",
       "      <th>group</th>\n",
       "      <th>landing_page</th>\n",
       "      <th>converted</th>\n",
       "    </tr>\n",
       "  </thead>\n",
       "  <tbody>\n",
       "    <tr>\n",
       "      <th>0</th>\n",
       "      <td>851104</td>\n",
       "      <td>2017-01-21 22:11:48.556739</td>\n",
       "      <td>control</td>\n",
       "      <td>old_page</td>\n",
       "      <td>0</td>\n",
       "    </tr>\n",
       "    <tr>\n",
       "      <th>1</th>\n",
       "      <td>804228</td>\n",
       "      <td>2017-01-12 08:01:45.159739</td>\n",
       "      <td>control</td>\n",
       "      <td>old_page</td>\n",
       "      <td>0</td>\n",
       "    </tr>\n",
       "    <tr>\n",
       "      <th>4</th>\n",
       "      <td>864975</td>\n",
       "      <td>2017-01-21 01:52:26.210827</td>\n",
       "      <td>control</td>\n",
       "      <td>old_page</td>\n",
       "      <td>1</td>\n",
       "    </tr>\n",
       "    <tr>\n",
       "      <th>5</th>\n",
       "      <td>936923</td>\n",
       "      <td>2017-01-10 15:20:49.083499</td>\n",
       "      <td>control</td>\n",
       "      <td>old_page</td>\n",
       "      <td>0</td>\n",
       "    </tr>\n",
       "    <tr>\n",
       "      <th>7</th>\n",
       "      <td>719014</td>\n",
       "      <td>2017-01-17 01:48:29.539573</td>\n",
       "      <td>control</td>\n",
       "      <td>old_page</td>\n",
       "      <td>0</td>\n",
       "    </tr>\n",
       "  </tbody>\n",
       "</table>\n",
       "</div>"
      ],
      "text/plain": [
       "   user_id                   timestamp    group landing_page  converted\n",
       "0   851104  2017-01-21 22:11:48.556739  control     old_page          0\n",
       "1   804228  2017-01-12 08:01:45.159739  control     old_page          0\n",
       "4   864975  2017-01-21 01:52:26.210827  control     old_page          1\n",
       "5   936923  2017-01-10 15:20:49.083499  control     old_page          0\n",
       "7   719014  2017-01-17 01:48:29.539573  control     old_page          0"
      ]
     },
     "execution_count": 50,
     "metadata": {},
     "output_type": "execute_result"
    }
   ],
   "source": [
    "df2.head()"
   ]
  },
  {
   "cell_type": "code",
   "execution_count": 51,
   "metadata": {},
   "outputs": [
    {
     "data": {
      "text/html": [
       "<div>\n",
       "<style scoped>\n",
       "    .dataframe tbody tr th:only-of-type {\n",
       "        vertical-align: middle;\n",
       "    }\n",
       "\n",
       "    .dataframe tbody tr th {\n",
       "        vertical-align: top;\n",
       "    }\n",
       "\n",
       "    .dataframe thead th {\n",
       "        text-align: right;\n",
       "    }\n",
       "</style>\n",
       "<table border=\"1\" class=\"dataframe\">\n",
       "  <thead>\n",
       "    <tr style=\"text-align: right;\">\n",
       "      <th></th>\n",
       "      <th>user_id</th>\n",
       "      <th>timestamp</th>\n",
       "      <th>group</th>\n",
       "      <th>landing_page</th>\n",
       "      <th>converted</th>\n",
       "    </tr>\n",
       "  </thead>\n",
       "  <tbody>\n",
       "    <tr>\n",
       "      <th>2</th>\n",
       "      <td>661590</td>\n",
       "      <td>2017-01-11 16:55:06.154213</td>\n",
       "      <td>treatment</td>\n",
       "      <td>new_page</td>\n",
       "      <td>0</td>\n",
       "    </tr>\n",
       "    <tr>\n",
       "      <th>3</th>\n",
       "      <td>853541</td>\n",
       "      <td>2017-01-08 18:28:03.143765</td>\n",
       "      <td>treatment</td>\n",
       "      <td>new_page</td>\n",
       "      <td>0</td>\n",
       "    </tr>\n",
       "    <tr>\n",
       "      <th>6</th>\n",
       "      <td>679687</td>\n",
       "      <td>2017-01-19 03:26:46.940749</td>\n",
       "      <td>treatment</td>\n",
       "      <td>new_page</td>\n",
       "      <td>1</td>\n",
       "    </tr>\n",
       "    <tr>\n",
       "      <th>8</th>\n",
       "      <td>817355</td>\n",
       "      <td>2017-01-04 17:58:08.979471</td>\n",
       "      <td>treatment</td>\n",
       "      <td>new_page</td>\n",
       "      <td>1</td>\n",
       "    </tr>\n",
       "    <tr>\n",
       "      <th>9</th>\n",
       "      <td>839785</td>\n",
       "      <td>2017-01-15 18:11:06.610965</td>\n",
       "      <td>treatment</td>\n",
       "      <td>new_page</td>\n",
       "      <td>1</td>\n",
       "    </tr>\n",
       "  </tbody>\n",
       "</table>\n",
       "</div>"
      ],
      "text/plain": [
       "   user_id                   timestamp      group landing_page  converted\n",
       "2   661590  2017-01-11 16:55:06.154213  treatment     new_page          0\n",
       "3   853541  2017-01-08 18:28:03.143765  treatment     new_page          0\n",
       "6   679687  2017-01-19 03:26:46.940749  treatment     new_page          1\n",
       "8   817355  2017-01-04 17:58:08.979471  treatment     new_page          1\n",
       "9   839785  2017-01-15 18:11:06.610965  treatment     new_page          1"
      ]
     },
     "execution_count": 51,
     "metadata": {},
     "output_type": "execute_result"
    }
   ],
   "source": [
    "df3.head()"
   ]
  },
  {
   "cell_type": "code",
   "execution_count": 53,
   "metadata": {},
   "outputs": [
    {
     "data": {
      "text/plain": [
       "user_id         145274\n",
       "timestamp       145274\n",
       "group                1\n",
       "landing_page         1\n",
       "converted            2\n",
       "dtype: int64"
      ]
     },
     "execution_count": 53,
     "metadata": {},
     "output_type": "execute_result"
    }
   ],
   "source": [
    "df2.nunique()"
   ]
  },
  {
   "cell_type": "code",
   "execution_count": 54,
   "metadata": {},
   "outputs": [
    {
     "data": {
      "text/plain": [
       "user_id         145310\n",
       "timestamp       145311\n",
       "group                1\n",
       "landing_page         1\n",
       "converted            2\n",
       "dtype: int64"
      ]
     },
     "execution_count": 54,
     "metadata": {},
     "output_type": "execute_result"
    }
   ],
   "source": [
    "df3.nunique()"
   ]
  },
  {
   "cell_type": "markdown",
   "metadata": {},
   "source": [
    "Check all rows were removed"
   ]
  },
  {
   "cell_type": "code",
   "execution_count": 56,
   "metadata": {},
   "outputs": [
    {
     "data": {
      "text/plain": [
       "0"
      ]
     },
     "execution_count": 56,
     "metadata": {},
     "output_type": "execute_result"
    }
   ],
   "source": [
    "df3[((df3['group'] == 'treatment') & (df3['landing_page'] == 'new_page')) == False].shape[0]"
   ]
  },
  {
   "cell_type": "markdown",
   "metadata": {},
   "source": [
    "Are there any unique id's in the new dataframe ?"
   ]
  },
  {
   "cell_type": "code",
   "execution_count": 59,
   "metadata": {},
   "outputs": [
    {
     "data": {
      "text/plain": [
       "145310"
      ]
     },
     "execution_count": 59,
     "metadata": {},
     "output_type": "execute_result"
    }
   ],
   "source": [
    "df3.user_id.nunique()"
   ]
  },
  {
   "cell_type": "code",
   "execution_count": 60,
   "metadata": {},
   "outputs": [
    {
     "data": {
      "text/html": [
       "<div>\n",
       "<style scoped>\n",
       "    .dataframe tbody tr th:only-of-type {\n",
       "        vertical-align: middle;\n",
       "    }\n",
       "\n",
       "    .dataframe tbody tr th {\n",
       "        vertical-align: top;\n",
       "    }\n",
       "\n",
       "    .dataframe thead th {\n",
       "        text-align: right;\n",
       "    }\n",
       "</style>\n",
       "<table border=\"1\" class=\"dataframe\">\n",
       "  <thead>\n",
       "    <tr style=\"text-align: right;\">\n",
       "      <th></th>\n",
       "      <th>user_id</th>\n",
       "      <th>timestamp</th>\n",
       "      <th>group</th>\n",
       "      <th>landing_page</th>\n",
       "      <th>converted</th>\n",
       "    </tr>\n",
       "  </thead>\n",
       "  <tbody>\n",
       "    <tr>\n",
       "      <th>2893</th>\n",
       "      <td>773192</td>\n",
       "      <td>2017-01-14 02:55:59.590927</td>\n",
       "      <td>treatment</td>\n",
       "      <td>new_page</td>\n",
       "      <td>0</td>\n",
       "    </tr>\n",
       "  </tbody>\n",
       "</table>\n",
       "</div>"
      ],
      "text/plain": [
       "      user_id                   timestamp      group landing_page  converted\n",
       "2893   773192  2017-01-14 02:55:59.590927  treatment     new_page          0"
      ]
     },
     "execution_count": 60,
     "metadata": {},
     "output_type": "execute_result"
    }
   ],
   "source": [
    "df3[df3.user_id.duplicated() == True]"
   ]
  },
  {
   "cell_type": "code",
   "execution_count": 61,
   "metadata": {},
   "outputs": [
    {
     "name": "stderr",
     "output_type": "stream",
     "text": [
      "C:\\Users\\brian\\Anaconda3\\lib\\site-packages\\ipykernel_launcher.py:1: SettingWithCopyWarning: \n",
      "A value is trying to be set on a copy of a slice from a DataFrame\n",
      "\n",
      "See the caveats in the documentation: http://pandas.pydata.org/pandas-docs/stable/indexing.html#indexing-view-versus-copy\n",
      "  \"\"\"Entry point for launching an IPython kernel.\n"
     ]
    }
   ],
   "source": [
    "df3.drop_duplicates(subset='user_id', keep='first', inplace=True)"
   ]
  },
  {
   "cell_type": "code",
   "execution_count": 74,
   "metadata": {},
   "outputs": [],
   "source": [
    "final_df=pd.concat([df2,df3])"
   ]
  },
  {
   "cell_type": "code",
   "execution_count": 76,
   "metadata": {},
   "outputs": [
    {
     "data": {
      "text/plain": [
       "user_id         290584\n",
       "timestamp       290584\n",
       "group                2\n",
       "landing_page         2\n",
       "converted            2\n",
       "dtype: int64"
      ]
     },
     "execution_count": 76,
     "metadata": {},
     "output_type": "execute_result"
    }
   ],
   "source": [
    "final_df.nunique()"
   ]
  },
  {
   "cell_type": "code",
   "execution_count": 80,
   "metadata": {},
   "outputs": [
    {
     "data": {
      "text/plain": [
       "group      landing_page\n",
       "control    old_page        145274\n",
       "treatment  new_page        145310\n",
       "Name: converted, dtype: int64"
      ]
     },
     "execution_count": 80,
     "metadata": {},
     "output_type": "execute_result"
    }
   ],
   "source": [
    "final_df.groupby(['group','landing_page']).count()['converted']"
   ]
  },
  {
   "cell_type": "markdown",
   "metadata": {},
   "source": [
    "Counting the unique id for the concatenated A/B dataset"
   ]
  },
  {
   "cell_type": "code",
   "execution_count": 84,
   "metadata": {},
   "outputs": [
    {
     "data": {
      "text/plain": [
       "290584"
      ]
     },
     "execution_count": 84,
     "metadata": {},
     "output_type": "execute_result"
    }
   ],
   "source": [
    "final_df.user_id.nunique()"
   ]
  },
  {
   "cell_type": "markdown",
   "metadata": {},
   "source": [
    "Finding out the probability for user whether they are on the new_page or old_page:"
   ]
  },
  {
   "cell_type": "code",
   "execution_count": 99,
   "metadata": {},
   "outputs": [
    {
     "data": {
      "text/plain": [
       "'0.1196'"
      ]
     },
     "execution_count": 99,
     "metadata": {},
     "output_type": "execute_result"
    }
   ],
   "source": [
    "\"%.4f\"% (final_df.converted.sum() / final_df.converted.count())"
   ]
  },
  {
   "cell_type": "markdown",
   "metadata": {},
   "source": [
    "Probability for control group if they converted: "
   ]
  },
  {
   "cell_type": "code",
   "execution_count": 100,
   "metadata": {},
   "outputs": [
    {
     "data": {
      "text/plain": [
       "'0.1204'"
      ]
     },
     "execution_count": 100,
     "metadata": {},
     "output_type": "execute_result"
    }
   ],
   "source": [
    "obs_old = final_df.query('group == \"control\"')['converted'].sum() / final_df.query('group == \"control\"')['converted'].count()\n",
    "'%.4f' %obs_old"
   ]
  },
  {
   "cell_type": "markdown",
   "metadata": {},
   "source": [
    "Probabiltiy for treatment group if they converted:"
   ]
  },
  {
   "cell_type": "code",
   "execution_count": 102,
   "metadata": {},
   "outputs": [
    {
     "data": {
      "text/plain": [
       "'0.1188'"
      ]
     },
     "execution_count": 102,
     "metadata": {},
     "output_type": "execute_result"
    }
   ],
   "source": [
    "obs_new = final_df.query('group == \"treatment\"')['converted'].sum() / final_df.query('group == \"treatment\"')['converted'].count()\n",
    "'%.4f' %obs_new"
   ]
  },
  {
   "cell_type": "markdown",
   "metadata": {},
   "source": [
    "\n",
    "The conversion rate for the new treatment was lower than the conversion rate for the whole group. The new treatment rate was also lower than the control group. The results show that there is not sufficient evidence that shows that the new treatment group results in higher conversion rates. "
   ]
  },
  {
   "cell_type": "markdown",
   "metadata": {},
   "source": [
    "# A/B Test:"
   ]
  },
  {
   "cell_type": "markdown",
   "metadata": {},
   "source": [
    "H0: Pold =  Pnew           \n",
    "H1: Pold <> Pnew\n",
    "\n"
   ]
  },
  {
   "cell_type": "markdown",
   "metadata": {},
   "source": [
    "Null hypothesis: Pnew and Pold both have success rates equal to each other     \n",
    "\n",
    "Alternative hypothesis: Pnew has a conversion rate greater thane Pold"
   ]
  },
  {
   "cell_type": "markdown",
   "metadata": {},
   "source": [
    "convert rate for Pnew under the null which will be the same as P_old (Pold_null) for the null hypothesis:"
   ]
  },
  {
   "cell_type": "code",
   "execution_count": 115,
   "metadata": {},
   "outputs": [
    {
     "data": {
      "text/plain": [
       "'0.1188'"
      ]
     },
     "execution_count": 115,
     "metadata": {},
     "output_type": "execute_result"
    }
   ],
   "source": [
    "Pnew_null=(final_df.query('group == \"treatment\"')['converted']== 1).mean()\n",
    "'%.4f'%Pnew_null"
   ]
  },
  {
   "cell_type": "code",
   "execution_count": null,
   "metadata": {},
   "outputs": [],
   "source": [
    "#Pold_null = Pnew_null"
   ]
  },
  {
   "cell_type": "code",
   "execution_count": 131,
   "metadata": {},
   "outputs": [],
   "source": [
    "null_rate=df['converted'].sum()/df.shape[0]"
   ]
  },
  {
   "cell_type": "code",
   "execution_count": 122,
   "metadata": {},
   "outputs": [
    {
     "data": {
      "text/plain": [
       "landing_page\n",
       "new_page    145310\n",
       "old_page    145274\n",
       "Name: user_id, dtype: int64"
      ]
     },
     "execution_count": 122,
     "metadata": {},
     "output_type": "execute_result"
    }
   ],
   "source": [
    "final_df.groupby('landing_page').count()['user_id']"
   ]
  },
  {
   "cell_type": "markdown",
   "metadata": {},
   "source": [
    "This will be the number of transactions for the new page (n_new) and the old page (n_old)"
   ]
  },
  {
   "cell_type": "code",
   "execution_count": 125,
   "metadata": {},
   "outputs": [],
   "source": [
    "n_new, n_old = 145310, 145274"
   ]
  },
  {
   "cell_type": "markdown",
   "metadata": {},
   "source": [
    "This will be a simulation of n_new transactions with a convert rate of Pnew_null (which is under the null hypothesis)\n",
    "\n",
    "    The results will be stored as 1's and 0's in Pnew_converted "
   ]
  },
  {
   "cell_type": "code",
   "execution_count": 138,
   "metadata": {},
   "outputs": [
    {
     "data": {
      "text/plain": [
       "array([0, 0, 0, ..., 1, 1, 1], dtype=int64)"
      ]
     },
     "execution_count": 138,
     "metadata": {},
     "output_type": "execute_result"
    }
   ],
   "source": [
    "Pnew_converted=np.random.choice(2,n_new,p=[1-null_rate,null_rate])\n",
    "Pnew_converted"
   ]
  },
  {
   "cell_type": "code",
   "execution_count": 139,
   "metadata": {},
   "outputs": [
    {
     "data": {
      "text/plain": [
       "array([0, 0, 0, ..., 0, 0, 0], dtype=int64)"
      ]
     },
     "execution_count": 139,
     "metadata": {},
     "output_type": "execute_result"
    }
   ],
   "source": [
    "Pold_converted=np.random.choice(2,n_old,p=[1-null_rate,null_rate])\n",
    "Pold_converted"
   ]
  },
  {
   "cell_type": "code",
   "execution_count": 141,
   "metadata": {},
   "outputs": [
    {
     "data": {
      "text/plain": [
       "-0.00038083995832498274"
      ]
     },
     "execution_count": 141,
     "metadata": {},
     "output_type": "execute_result"
    }
   ],
   "source": [
    "#means the differences in converted success rate between the two pages \n",
    "Pnew_converted.sum()/n_new - Pold_converted.sum() / n_old"
   ]
  },
  {
   "cell_type": "markdown",
   "metadata": {},
   "source": [
    "p_differences = simulated 10,000 values "
   ]
  },
  {
   "cell_type": "code",
   "execution_count": 143,
   "metadata": {},
   "outputs": [],
   "source": [
    "p_differences = []\n",
    "\n",
    "for test1 in range(1000):\n",
    "    bootstrap_new = np.random.choice(2,n_new,p=[1-null_rate,null_rate])\n",
    "    bootstrap_old = np.random.choice(2,n_old,p=[1-null_rate,null_rate])\n",
    "    p_new = bootstrap_new.sum() /n_new\n",
    "    p_old = bootstrap_old.sum() / n_old\n",
    "    p_differences.append(p_new - p_old)"
   ]
  },
  {
   "cell_type": "code",
   "execution_count": 144,
   "metadata": {
    "scrolled": true
   },
   "outputs": [
    {
     "data": {
      "text/plain": [
       "[0.0019110971682851918,\n",
       " 0.0001215649727646928,\n",
       " -0.0005872627210788822,\n",
       " -6.406731689548306e-05,\n",
       " 0.0010854555730547971,\n",
       " 4.5897147730150634e-05,\n",
       " -0.0007590631182082669,\n",
       " 0.0009341284498452646,\n",
       " -0.0026586825651313956,\n",
       " -0.0014267498518152621,\n",
       " 0.0005757970320630079,\n",
       " -0.0006009854698078854,\n",
       " -0.000359988091842775,\n",
       " 0.0003213310057823826,\n",
       " 0.0004174465241582048,\n",
       " 0.0011545382939730647,\n",
       " -0.0006215388962071411,\n",
       " 0.0032326864933816812,\n",
       " -3.6371129767773236e-05,\n",
       " 0.0015396177121051458,\n",
       " 0.0018353611283745547,\n",
       " 0.0020077072445127825,\n",
       " 0.0022898745740368293,\n",
       " 1.1387336651236257e-05,\n",
       " 0.0012505736598694694,\n",
       " -0.0003464546393949497,\n",
       " -0.001399174746092649,\n",
       " -0.0013992412555968448,\n",
       " 0.0017119621228714604,\n",
       " 0.0026683910578873538,\n",
       " -0.001640071507115523,\n",
       " 0.0007480340043994754,\n",
       " -0.0004565299531942568,\n",
       " 0.001629197582149855,\n",
       " 0.0020417685427813193,\n",
       " 0.00042452448075436244,\n",
       " -0.0002292945475119157,\n",
       " 0.0010440144673633661,\n",
       " 0.00019746813912178973,\n",
       " 0.001264192380912424,\n",
       " -0.0020323994190339784,\n",
       " 0.0002387762258048154,\n",
       " -0.0003186254332588484,\n",
       " -0.0004153054297344472,\n",
       " 0.00011469507154067415,\n",
       " -0.0025349322530163615,\n",
       " 0.00039041031595683784,\n",
       " 0.0009339203944731395,\n",
       " 0.000348771387124705,\n",
       " -0.00018797111248175513,\n",
       " 0.0013534993914527116,\n",
       " -0.00046996108332791886,\n",
       " -0.001667430030606487,\n",
       " -5.72332284814181e-05,\n",
       " 0.001202416136425244,\n",
       " -0.0011447428272500643,\n",
       " 0.00034211636276040847,\n",
       " 0.0017874781698066639,\n",
       " 0.0013951621954915033,\n",
       " 5.2855728293110804e-05,\n",
       " 0.00035590562099360734,\n",
       " 0.000472774094281328,\n",
       " 0.0005001223855408826,\n",
       " 0.0002869354546209263,\n",
       " 0.0008374620963448737,\n",
       " 0.00012833596241834666,\n",
       " -0.0015710501795857534,\n",
       " 0.000514037841294876,\n",
       " 0.00016332668837382158,\n",
       " 0.0009823183753556314,\n",
       " 0.002262314816661337,\n",
       " -0.0007180875790462476,\n",
       " 0.0020624788633956254,\n",
       " -0.0006214212255458706,\n",
       " -8.855712061758836e-06,\n",
       " 0.0017321420728240583,\n",
       " -0.001309756886378674,\n",
       " -0.0011719905015673826,\n",
       " -0.002335382802230293,\n",
       " -0.0013442070094410036,\n",
       " 0.0006518059314780805,\n",
       " 0.0020489863398734792,\n",
       " -0.0015923505588783665,\n",
       " -0.0007386768182554709,\n",
       " 0.001044060512404743,\n",
       " 0.0005210868065686769,\n",
       " -0.0001191510188364997,\n",
       " -0.0021428209233295276,\n",
       " 0.0016497441870615137,\n",
       " 3.928475766344641e-05,\n",
       " 0.0008721134532917174,\n",
       " 0.0008444888917839427,\n",
       " -0.001991231172846969,\n",
       " -0.0006009803536921876,\n",
       " 0.0015876695024913956,\n",
       " 0.0011127339440663575,\n",
       " 0.00014953913551252196,\n",
       " 0.00017021534868877364,\n",
       " -0.0004975822340918951,\n",
       " 0.0019249682843697213,\n",
       " -5.695866360509727e-05,\n",
       " -2.9583086395085223e-05,\n",
       " 0.001566817636009174,\n",
       " 0.00044528084641003163,\n",
       " 0.0030810353495106246,\n",
       " 0.0022210459535320637,\n",
       " 5.3091069615665565e-05,\n",
       " 0.0002593552327826154,\n",
       " 0.0023171341859574562,\n",
       " 0.0013951843653262352,\n",
       " -0.000738431244701479,\n",
       " -5.0574793373323046e-05,\n",
       " -0.0010483493332541088,\n",
       " -0.0012204242952598143,\n",
       " -0.0006148531751486164,\n",
       " 8.741670052911377e-05,\n",
       " 0.0021245381996186224,\n",
       " 0.000623966493110556,\n",
       " -0.0009930558705690679,\n",
       " 0.0021522838425315077,\n",
       " -0.0002291512962720732,\n",
       " -0.0001465794625754857,\n",
       " 0.0014705042944926222,\n",
       " 0.0015189108022346381,\n",
       " -0.00214260945721359,\n",
       " 0.0005140054392287208,\n",
       " 0.0026477267823144246,\n",
       " 0.001243720812364485,\n",
       " 0.0011404301311940673,\n",
       " 0.0008306263025589095,\n",
       " -0.0011927605101982597,\n",
       " 0.0008029966249354092,\n",
       " 0.000954333980376379,\n",
       " 0.000562207302342424,\n",
       " -0.00020185246079769403,\n",
       " -0.003663596454996823,\n",
       " -0.00021564854051851767,\n",
       " -0.0022459308350782636,\n",
       " -0.000284414062262886,\n",
       " 0.00042454835596097973,\n",
       " 0.0024823818810367076,\n",
       " 0.001381367821142579,\n",
       " 0.0007892943406692388,\n",
       " -0.0011995724287776066,\n",
       " 0.00014238273180885996,\n",
       " 0.0003834244494434341,\n",
       " -0.0003462397625352276,\n",
       " -0.001055038465056446,\n",
       " -0.000545835258362673,\n",
       " 0.0003212627909062876,\n",
       " 0.00251004225535445,\n",
       " -0.0006146621734955254,\n",
       " 0.0005484282763406345,\n",
       " 0.0003421675239174832,\n",
       " -0.0018879677776269949,\n",
       " -0.0002774605978156375,\n",
       " 0.0006654519384714647,\n",
       " 0.0008168916162265838,\n",
       " -0.0020740588123289716,\n",
       " -0.0010000502639419678,\n",
       " -0.00031862713863076153,\n",
       " 0.0007480612903499329,\n",
       " 0.0015602632285871415,\n",
       " -0.00039456611779779827,\n",
       " 0.0013055089944549597,\n",
       " -0.00047718570190767584,\n",
       " -0.0002496365077952478,\n",
       " -0.0022939894469521382,\n",
       " -0.00032562664811935926,\n",
       " -0.0012134605985811564,\n",
       " 0.001505133481604748,\n",
       " 0.001601578136757778,\n",
       " -0.0002087411211126322,\n",
       " 0.0013536307050892316,\n",
       " 0.000768870522534576,\n",
       " 0.0009889341761661619,\n",
       " -0.0013717650614445825,\n",
       " -0.0008623555047505976,\n",
       " 0.000775673914254385,\n",
       " -0.0005940302999887376,\n",
       " -0.0018192039612545396,\n",
       " 0.0007618181465169904,\n",
       " -0.0013096818500149543,\n",
       " 0.0004176955084560091,\n",
       " 0.0027029980751647475,\n",
       " 0.0014501128784241146,\n",
       " -0.0006489349378799858,\n",
       " 0.0004245926956304713,\n",
       " 0.0016568903585337663,\n",
       " 0.0001355861615766618,\n",
       " -0.001818907226543473,\n",
       " -5.700129790266184e-05,\n",
       " -0.0029000312497084596,\n",
       " -0.0004285796656530727,\n",
       " 0.0018837062427280588,\n",
       " 0.0005073487094925527,\n",
       " -0.0012752743612501755,\n",
       " 0.001574263952936264,\n",
       " -0.0008211889639354736,\n",
       " -9.841000152795154e-05,\n",
       " 0.00010795818932506085,\n",
       " -0.0015575849420140508,\n",
       " 0.00017670154123469728,\n",
       " 0.0018495699080958161,\n",
       " 0.002193711305247731,\n",
       " 0.0003489964962158365,\n",
       " 0.0003147339640627994,\n",
       " 0.0013194108072337452,\n",
       " -0.002466013247800769,\n",
       " 0.001064837342523245,\n",
       " 0.0010715008937470516,\n",
       " -0.00045649414038430314,\n",
       " 0.00045886716538681704,\n",
       " 0.0013331796010041114,\n",
       " -0.0004907600832811526,\n",
       " -0.00027751516971652457,\n",
       " 0.001856233459319609,\n",
       " -0.00070423863279645,\n",
       " 0.0019388752132642184,\n",
       " 0.001622240706958808,\n",
       " 0.0006450861029814875,\n",
       " 0.003769423876872416,\n",
       " -0.00037383703809255875,\n",
       " -0.0002570555387719081,\n",
       " -0.0006005966450140787,\n",
       " 0.0005140787702205551,\n",
       " -0.0009450126070423281,\n",
       " 0.0018838443778521757,\n",
       " 0.0002801627595953732,\n",
       " 0.0016498209287971327,\n",
       " 0.0008993423685181023,\n",
       " 0.0008585646524967849,\n",
       " -0.0010350409898974428,\n",
       " -0.0004976316898770705,\n",
       " 0.0018493413882608584,\n",
       " 0.0012574094536554337,\n",
       " 0.0006930492140288097,\n",
       " 0.00039017668000618233,\n",
       " 0.0025650048758903976,\n",
       " -0.0024316671524244743,\n",
       " -0.0014199021204259754,\n",
       " -0.0013649565536090758,\n",
       " -0.00023592569666955332,\n",
       " 0.0010093443513256029,\n",
       " -0.0009447994355544914,\n",
       " 0.002874835990475985,\n",
       " 8.04734683132885e-05,\n",
       " -0.0015850901274886559,\n",
       " -0.0006285742185057203,\n",
       " -0.001729757110218208,\n",
       " 0.0025306042086132297,\n",
       " -2.9576264907488214e-05,\n",
       " -0.0009242221339485907,\n",
       " 0.001236832152049533,\n",
       " -0.0012548710075783454,\n",
       " -0.0017160769957867555,\n",
       " 0.00015630330367856493,\n",
       " -0.0007728080367720158,\n",
       " -0.000669699830395179,\n",
       " 0.001739134760825059,\n",
       " -0.0003737159566874759,\n",
       " -0.0008968721373171229,\n",
       " -2.2899070708459757e-05,\n",
       " 0.0007965922902408301,\n",
       " -0.0012203850717060621,\n",
       " -0.0002842554626759364,\n",
       " 0.00060358019315776,\n",
       " 0.0005483327755140821,\n",
       " 0.0011609306910643352,\n",
       " 0.0015049765873896975,\n",
       " -0.0009588052760193394,\n",
       " -0.0005116136551352873,\n",
       " 0.001477744261419514,\n",
       " 0.00043140290883787735,\n",
       " 0.0015121483394404805,\n",
       " -0.0001671175406276204,\n",
       " -2.2160360445971916e-06,\n",
       " 0.0017733921768623984,\n",
       " -0.002493555951457227,\n",
       " 0.0016705431870147613,\n",
       " 0.001105949311437468,\n",
       " -0.0009311841252553493,\n",
       " -0.0006008916743532322,\n",
       " 4.606256880469728e-05,\n",
       " 0.0011129044812566297,\n",
       " -0.0007455398979918648,\n",
       " -0.0021629838195630913,\n",
       " 0.0013814599112253328,\n",
       " -0.0016536441831170867,\n",
       " -0.00013267423905290177,\n",
       " -0.0005252323761782279,\n",
       " 0.0004314012034659781,\n",
       " 0.0005622499366399886,\n",
       " -0.001247704371643274,\n",
       " 0.0005071781723022806,\n",
       " 1.886093952878365e-05,\n",
       " -0.0011791758965933874,\n",
       " 0.0001701812412507192,\n",
       " 0.0005208992156593845,\n",
       " -0.0005734564091266492,\n",
       " -0.0005110253018288657,\n",
       " 0.0015740337277294209,\n",
       " -0.0017432615713436628,\n",
       " 0.00011508730707826542,\n",
       " 0.0011610961121388957,\n",
       " -0.002335220791899545,\n",
       " 0.0001010558860349009,\n",
       " 0.0003355551338507651,\n",
       " -0.0007521659310338047,\n",
       " -0.0001534220778490608,\n",
       " -0.001206745886200275,\n",
       " 0.0012294745144613567,\n",
       " 0.0007344528015383878,\n",
       " 0.0016703078456921927,\n",
       " 0.002000462161470193,\n",
       " -0.0006424061110364976,\n",
       " -0.0006762917559990644,\n",
       " 0.0008582065243972342,\n",
       " -0.0017918147410693058,\n",
       " -2.2716595914878956e-05,\n",
       " 0.0006790945347210503,\n",
       " -0.0010826374459856902,\n",
       " 0.000589804577899769,\n",
       " 0.0014777255023285946,\n",
       " -0.0017776929353150867,\n",
       " 0.0016703163725517028,\n",
       " 0.00023880010101144655,\n",
       " 0.0008994310478570439,\n",
       " -0.0011238909607678427,\n",
       " -0.0015642160911716885,\n",
       " -0.001406353319631043,\n",
       " -0.0005046141456466618,\n",
       " -0.00013315685930134769,\n",
       " 7.388495345321544e-05,\n",
       " -0.001261703390620511,\n",
       " -0.001227142418384508,\n",
       " -0.0016538897566710647,\n",
       " 0.003143210651023007,\n",
       " 0.00236553728295566,\n",
       " -0.0006629561266919548,\n",
       " -0.0010621300646278115,\n",
       " -0.0007456217558432093,\n",
       " -0.0006905175894393462,\n",
       " 0.0001355452326509965,\n",
       " -0.00035305850260215765,\n",
       " 0.00046590419305729547,\n",
       " -0.0023423413827932393,\n",
       " -0.0005458079724122156,\n",
       " -0.0004218973553383326,\n",
       " -0.0015436541379129226,\n",
       " -0.0007317301752958194,\n",
       " 0.00010811508354009736,\n",
       " 0.002420540832417245,\n",
       " 0.0008786371640195079,\n",
       " -0.0034572265587718976,\n",
       " 0.0024001136035387838,\n",
       " 0.0014635951697148514,\n",
       " 0.0008513809628426933,\n",
       " -0.002376523762466873,\n",
       " -0.000449267816432633,\n",
       " -0.00070414654271371,\n",
       " -0.0016264203840064273,\n",
       " -0.0010688430716367797,\n",
       " -0.0005802308095241154,\n",
       " 0.0012502905681336385,\n",
       " -0.00046324637094703747,\n",
       " -0.0009244677075025687,\n",
       " -9.882781764410098e-05,\n",
       " -0.0006006239309645361,\n",
       " -0.0024179188231169407,\n",
       " 0.00122294227687407,\n",
       " 0.0008786030565814534,\n",
       " -0.0011515411028541755,\n",
       " -0.0004770117539736052,\n",
       " -0.0011724356036339617,\n",
       " -0.0013167120561978218,\n",
       " -6.430265821803782e-05,\n",
       " -0.00239715734134556,\n",
       " -0.0006284701908196716,\n",
       " 0.00012888679754290144,\n",
       " -0.002307962885350817,\n",
       " 0.0007963910563563159,\n",
       " 0.0006170471361013619,\n",
       " 0.0009547279212858972,\n",
       " 0.0013538182959985101,\n",
       " -0.0008416144874420356,\n",
       " 0.00045246283069222404,\n",
       " 0.00023874211836676096,\n",
       " -0.0002428621073977677,\n",
       " -0.0024385933309212793,\n",
       " 0.0032259206198437113,\n",
       " -0.0010347067370045232,\n",
       " -0.00021529723390656397,\n",
       " -5.04093722987764e-05,\n",
       " 0.0005760784184269535,\n",
       " -0.0009518978566134539,\n",
       " 0.0013469091712207393,\n",
       " -0.0017917942766064732,\n",
       " -0.0016195112592286426,\n",
       " -0.0003874148302098479,\n",
       " 0.00046568761082566024,\n",
       " 0.0008307866075177583,\n",
       " -0.00034636937079983443,\n",
       " 0.001911182436880321,\n",
       " -0.0009037539761444641,\n",
       " 1.1545936238172017e-05,\n",
       " -0.00034614255633676205,\n",
       " -0.0003118663812085032,\n",
       " -0.0002775748577331094,\n",
       " 0.00034877479786848964,\n",
       " -0.0011306994686033633,\n",
       " -0.0017366986370621201,\n",
       " -0.0023076985527059196,\n",
       " -0.001192893529206679,\n",
       " -0.0009450825272903224,\n",
       " 0.0002110561634704744,\n",
       " -0.0018121055401955632,\n",
       " -0.0009931326123046869,\n",
       " 0.0013467744468404347,\n",
       " -0.0018054556319469922,\n",
       " -0.0017088984222483616,\n",
       " 0.00030772763308656303,\n",
       " 8.718476995035751e-05,\n",
       " -0.0003190415440030847,\n",
       " -0.0007248824439065465,\n",
       " -0.00029800890809918157,\n",
       " 4.577606632506781e-05,\n",
       " -0.0016542410632830046,\n",
       " -0.0016195402505509715,\n",
       " -0.00040814049917127504,\n",
       " -0.0004354717367118094,\n",
       " -0.0008418856415745579,\n",
       " -0.002294110528357221,\n",
       " -0.0009861723263698274,\n",
       " 0.00024589852207042295,\n",
       " 0.0013538694571555987,\n",
       " -0.0002567383395980227,\n",
       " -0.00162640162491548,\n",
       " -3.6770186793003146e-05,\n",
       " 0.001257487900762952,\n",
       " 0.0017942082305346663,\n",
       " 0.0004179632518447052,\n",
       " 4.6093265498953206e-05,\n",
       " -0.0006630789134689369,\n",
       " -0.0003737227781750868,\n",
       " 0.0015118823014236699,\n",
       " 0.0005761739192535059,\n",
       " 0.000135702126866033,\n",
       " -0.00024305651979467102,\n",
       " -2.231384391732094e-06,\n",
       " 0.0018078729966189838,\n",
       " 0.000314193361169654,\n",
       " 0.0018012367313456207,\n",
       " 0.0014568753412182722,\n",
       " 0.0008306757583440849,\n",
       " -0.0010414760212862917,\n",
       " 0.0003973143246189109,\n",
       " 0.0003763874217729696,\n",
       " 0.0016637892510801139,\n",
       " 0.0017804343206485745,\n",
       " -1.9636410030082763e-06,\n",
       " -0.0015369257825568194,\n",
       " 0.0007480016023333341,\n",
       " 0.0006173847997380799,\n",
       " 0.0003695533333589185,\n",
       " -0.0012961995587242314,\n",
       " 0.00036253335940746034,\n",
       " -0.002053275160722845,\n",
       " 0.0011403892022683881,\n",
       " -0.0010415271824433664,\n",
       " -0.0004701674333281308,\n",
       " -0.00024987014374590333,\n",
       " -0.0021974936306420056,\n",
       " -0.000765958600010816,\n",
       " 0.0008444650165772977,\n",
       " 0.0005345656871156151,\n",
       " -0.0004492268875069677,\n",
       " 0.0005208770458246526,\n",
       " -0.0006767914299665306,\n",
       " -0.0004426400780187939,\n",
       " 0.0003420566747438236,\n",
       " -0.001770792337396812,\n",
       " 0.0009337959023242443,\n",
       " 0.0009339783771178389,\n",
       " 4.8892065019900954e-06,\n",
       " 0.0002664059034283156,\n",
       " -0.0003601142893635695,\n",
       " -0.0010414385031044249,\n",
       " 0.0004867117198700671,\n",
       " 0.0011129078920004282,\n",
       " -0.0014475761377189533,\n",
       " 4.814170138270346e-06,\n",
       " 0.00039015280479955117,\n",
       " 0.0015738239669853965,\n",
       " 1.1559579213393789e-05,\n",
       " 0.00012193333309565291,\n",
       " 0.001491528403537029,\n",
       " 0.0006793980909197139,\n",
       " 0.0009684165625768459,\n",
       " -0.0009312148219495914,\n",
       " 0.0006380047356415591,\n",
       " 4.86192055154655e-06,\n",
       " -0.0013856105969505955,\n",
       " 0.0020972086674499874,\n",
       " 0.0014429854660427954,\n",
       " 0.0017667900190270897,\n",
       " 0.0011955956909864007,\n",
       " 0.0010918547916336924,\n",
       " 3.2131764703569043e-05,\n",
       " 0.002028458494052754,\n",
       " -0.0019633917344794444,\n",
       " 2.5456275876467593e-05,\n",
       " 0.0011609801468495246,\n",
       " -0.001488662526054646,\n",
       " -0.0003254527001853025,\n",
       " -0.00013263160475532332,\n",
       " -0.002177185777796728,\n",
       " -8.929043053565455e-06,\n",
       " -0.0006491105911859557,\n",
       " 0.0006926620946069162,\n",
       " 0.001526096197260643,\n",
       " -0.0007181796691289877,\n",
       " 0.0008311771376834642,\n",
       " 0.00012865998307984294,\n",
       " 0.0001905556036002065,\n",
       " -0.002466127507718241,\n",
       " 0.0021315036016691796,\n",
       " 0.0005485578846052414,\n",
       " -0.001392340657678598,\n",
       " 0.0005760221411541672,\n",
       " -0.0018880666891973458,\n",
       " -0.0008555487022869762,\n",
       " -0.0015438417288222012,\n",
       " 0.0006655883682236685,\n",
       " -0.00013964646259106983,\n",
       " -9.860270855294173e-05,\n",
       " 0.0006035290320006853,\n",
       " -0.00011256591472022515,\n",
       " 0.0022347891667238995,\n",
       " 0.0026617769624487364,\n",
       " 0.00016973443381222697,\n",
       " 0.0011265385506466913,\n",
       " -0.0014133988741610315,\n",
       " -8.461051106331552e-05,\n",
       " -0.002266526895775084,\n",
       " -0.0014543113145626535,\n",
       " -0.0024042932805863754,\n",
       " -0.00010535323374377681,\n",
       " -0.0006766072498010367,\n",
       " 0.0013329493757972682,\n",
       " -0.000504723289448436,\n",
       " 0.0009408533944575415,\n",
       " -0.0015987344291101407,\n",
       " -7.088264621861462e-05,\n",
       " -0.0007452397525370136,\n",
       " 0.0002663257509488981,\n",
       " 0.0012092314657483755,\n",
       " 4.609667624276559e-05,\n",
       " -0.00016737164104112245,\n",
       " 0.0003145463731534931,\n",
       " 0.0008375064360143375,\n",
       " -0.0023077053741935166,\n",
       " 0.0008373393095678916,\n",
       " -0.0003735147228029756,\n",
       " -0.001454185117041859,\n",
       " -0.0009796162135758957,\n",
       " -0.0033470455119146425,\n",
       " 0.001250462810695796,\n",
       " 0.0015602683447028531,\n",
       " 0.0015740865942584087,\n",
       " 0.002716700359430918,\n",
       " -0.0017296377341850244,\n",
       " -0.0013649855449314185,\n",
       " -0.001289015869070112,\n",
       " 0.0009065277635441071,\n",
       " 9.436334348875142e-05,\n",
       " 0.001388111524845817,\n",
       " -0.0009796469102701377,\n",
       " -0.0010345037977481097,\n",
       " -0.0008487657750299998,\n",
       " 0.00016311692762979724,\n",
       " -0.00038070523394467815,\n",
       " 4.919903196232145e-06,\n",
       " -0.0009726593383848486,\n",
       " -0.0002911492391065862,\n",
       " 3.9146622539329434e-05,\n",
       " 0.001870024422924721,\n",
       " -0.0007249199620884134,\n",
       " 0.00023189097623367572,\n",
       " 0.0023173422413295813,\n",
       " 0.0002114108808262266,\n",
       " -0.0005869182359545533,\n",
       " -0.0017091030668766882,\n",
       " -0.00025685601025929317,\n",
       " 0.0010300717256589292,\n",
       " 0.0002527291997406894,\n",
       " 0.0015054779667290769,\n",
       " 0.000720472541652098,\n",
       " -0.0009246160748581089,\n",
       " 0.0012712925073432857,\n",
       " 0.000851193371933387,\n",
       " 0.00025251773362473806,\n",
       " 0.00035596019289449443,\n",
       " -0.002645348641196199,\n",
       " -0.0009725501945830745,\n",
       " -5.0467354943461995e-05,\n",
       " -0.0010754929798853646,\n",
       " -0.0007246471025839918,\n",
       " 0.00011479909922672282,\n",
       " 0.0010371053425855953,\n",
       " 0.0020628080001728333,\n",
       " 0.0005210731635934551,\n",
       " -0.0010414385031044249,\n",
       " 0.000396923794453205,\n",
       " -0.0006628077593364284,\n",
       " 0.0006789478727374232,\n",
       " -0.0012066367423985147,\n",
       " 0.0018286430052498748,\n",
       " 0.0020148244246626784,\n",
       " 0.0019249631682540236,\n",
       " -0.0008762283262070264,\n",
       " -0.00023579779377684573,\n",
       " -0.0009725757751616187,\n",
       " 0.0008928612920878903,\n",
       " -0.0012133292849446642,\n",
       " 0.0010854078226415348,\n",
       " 0.0015948446652859771,\n",
       " -0.00047692648537847604,\n",
       " 0.0020762237819593604,\n",
       " -0.00036026947820670674,\n",
       " 0.000114908243028497,\n",
       " 0.00036963178046642287,\n",
       " -0.002218352318611838,\n",
       " 0.001388355393027882,\n",
       " -0.0016262754273946994,\n",
       " -0.0022390643445980574,\n",
       " 0.0009475493477475033,\n",
       " -0.00022923144875150459,\n",
       " -5.688021649756514e-05,\n",
       " -0.0007179647922692656,\n",
       " 0.0010302269145020526,\n",
       " 0.00020427153084159877,\n",
       " 0.0014361991280420205,\n",
       " -0.0006766601163300245,\n",
       " 0.0016497254279705942,\n",
       " -0.0014270210059477845,\n",
       " -0.001116821531031223,\n",
       " -0.0011377040942077005,\n",
       " 0.0018422310295985594,\n",
       " 0.0013607547067267384,\n",
       " 0.0027165485813315793,\n",
       " 3.2147113050703946e-05,\n",
       " -0.0006286731300760712,\n",
       " -2.26228004602258e-05,\n",
       " -0.00016714482657806395,\n",
       " -0.0009930405222219468,\n",
       " 0.00116794043278437,\n",
       " -0.0007521318235957641,\n",
       " 0.001120047241985056,\n",
       " -0.0016127624394097206,\n",
       " -0.0022801984833470124,\n",
       " -0.0016126243042856037,\n",
       " -0.0008692526919250598,\n",
       " 0.00010798547527549052,\n",
       " 0.0027369843370695507,\n",
       " 0.0004727075847771045,\n",
       " 0.0004175369088690595,\n",
       " -5.7071218150669956e-05,\n",
       " 0.0013264836477141773,\n",
       " 0.0017597870987946657,\n",
       " -0.0005664159707123584,\n",
       " 0.00010113092239860677,\n",
       " 0.0019456956587030616,\n",
       " 0.00038330507341025055,\n",
       " -0.0007800121908889401,\n",
       " 0.0005690806143102412,\n",
       " -7.102589745842935e-05,\n",
       " -0.0018464942698694087,\n",
       " -0.0003945047244093003,\n",
       " -8.460027883190613e-05,\n",
       " 0.0007272230668429192,\n",
       " -0.0010070958184719564,\n",
       " 0.0008375746508904464,\n",
       " -0.00029796456842971775,\n",
       " -0.0010000468531981693,\n",
       " -0.0012755949711678732,\n",
       " 0.00032831346155197394,\n",
       " 0.00041088358987667606,\n",
       " 0.00045900359513903477,\n",
       " -0.00035286920632096597,\n",
       " -0.001571377610991062,\n",
       " 0.0001285900628318487,\n",
       " 0.0012023308678301287,\n",
       " -0.0010070054337611156,\n",
       " -0.0010136314668030555,\n",
       " -0.0013237866020501532,\n",
       " 0.0007000725987240664,\n",
       " 0.0014570629321275647,\n",
       " -0.0016883142991548639,\n",
       " -0.0023078452146895467,\n",
       " -4.3143824793340224e-05,\n",
       " 0.001305519226686383,\n",
       " -0.0006146792272145457,\n",
       " 0.0002802770195128451,\n",
       " -5.702005699359525e-05,\n",
       " -0.0006212916172812638,\n",
       " -0.0014472180096193887,\n",
       " -0.000807447456115537,\n",
       " 0.00010790702816798614,\n",
       " -7.79537813271336e-05,\n",
       " -0.00025005602928328263,\n",
       " -0.0009586858999861558,\n",
       " -0.0020875564519668294,\n",
       " -0.002073762077617905,\n",
       " 0.0007206209090076104,\n",
       " -0.0004013933847242662,\n",
       " -0.0022319147623820063,\n",
       " 0.00018353221890493598,\n",
       " 0.00025241541131058864,\n",
       " -0.0014474635831733806,\n",
       " 0.0009684199733206444,\n",
       " 0.0012023376893177257,\n",
       " -0.0008142798391577027,\n",
       " 0.0014294622458264072,\n",
       " -0.0010894374269617008,\n",
       " 0.001064523554093158,\n",
       " -0.00022938322685084334,\n",
       " 0.0006377710996909036,\n",
       " 0.0003694424841852312,\n",
       " 0.0016495361316894025,\n",
       " -0.0013649002763362894,\n",
       " -0.0009311261426106637,\n",
       " 0.000947591982045054,\n",
       " -0.0022526336098558225,\n",
       " 0.0010991970808747337,\n",
       " -0.00030533414362121647,\n",
       " 0.0002114074700824281,\n",
       " 0.001477474812658905,\n",
       " -0.0017157035193400977,\n",
       " -0.0002014789843510223,\n",
       " -0.0006975273311593672,\n",
       " 0.0002457433332272718,\n",
       " -0.0003117759964976624,\n",
       " -0.0006218543900091411,\n",
       " -0.0018123204170552992,\n",
       " 0.0014569452614662803,\n",
       " 0.0002457348063677617,\n",
       " -0.00037358293767908446,\n",
       " -0.0008692032361398705,\n",
       " -0.0012203339105489736,\n",
       " -0.000394419455814185,\n",
       " -0.00024293032227387656,\n",
       " 1.8553972586293765e-05,\n",
       " 0.00010783881329187728,\n",
       " 0.0007000248483107901,\n",
       " -0.0002775083482289137,\n",
       " -0.00037384044883637113,\n",
       " -0.0010755475517862517,\n",
       " -0.001316851896693838,\n",
       " -0.003099502253386996,\n",
       " -0.0012269548274752157,\n",
       " -0.0003600153777932047,\n",
       " -0.00021557009341098554,\n",
       " -0.0008417014614090779,\n",
       " -0.0003257050952268914,\n",
       " -0.0005665916240183422,\n",
       " 0.0019800809776330947,\n",
       " 0.00040422003865288325,\n",
       " 0.0019730541821940256,\n",
       " -0.00012594758906869785,\n",
       " 0.0008855394673096817,\n",
       " -0.002445470053632909,\n",
       " -0.0009037556815163633,\n",
       " -0.0015716044254541067,\n",
       " 0.000541551553629005,\n",
       " -0.0005804286326648173,\n",
       " 3.2234087017746216e-05,\n",
       " -0.0008209553279848181,\n",
       " 5.2886424987352854e-05,\n",
       " 0.0006240943960032497,\n",
       " -0.0020255892058265584,\n",
       " 5.28693712683187e-05,\n",
       " -0.0014197298778638179,\n",
       " 0.00022488805600125172,\n",
       " -0.00040132516984815736,\n",
       " 0.00021820404031462626,\n",
       " -0.0001531730935512704,\n",
       " -0.0027759807921385604,\n",
       " 0.0018218941854309528,\n",
       " -0.0011377586661085737,\n",
       " 0.0008511353892887014,\n",
       " 0.0015051965803651451,\n",
       " -0.0004564822027809806,\n",
       " 0.0006171596906469345,\n",
       " -0.0018463220273072234,\n",
       " -0.0013303461255878835,\n",
       " -0.00230799187667316,\n",
       " -7.09474503509111e-05,\n",
       " 0.0004590632831556335,\n",
       " -0.0019843408071601176,\n",
       " -0.001137762076852386,\n",
       " 0.00013559809917997045,\n",
       " -0.002004930046369341,\n",
       " 0.002447868659213981,\n",
       " 0.001443236155712485,\n",
       " -0.0007731678702434658,\n",
       " 0.0003765937717731954,\n",
       " 0.0005759624531375823,\n",
       " -0.0002496689098613891,\n",
       " -0.0008762334423227242,\n",
       " 5.08702964269192e-06,\n",
       " 0.00023186027953943367,\n",
       " -0.0014271523195842767,\n",
       " -0.0007316909517420811,\n",
       " -4.371000826501603e-05,\n",
       " -0.0025487675562909373,\n",
       " -0.0002499417693658107,\n",
       " -0.001013912853167001,\n",
       " 0.0002044915238170325,\n",
       " 0.0019180813294266963,\n",
       " -0.00192279137713601,\n",
       " 0.002468816026522755,\n",
       " -0.00031870046962256815,\n",
       " 0.000720373630081747,\n",
       " 0.001353963252610238,\n",
       " -0.0018674638070129007,\n",
       " -0.00022217736736201976,\n",
       " -0.0013030421739977927,\n",
       " 0.0009753751431398061,\n",
       " -4.32956028926651e-05,\n",
       " 7.369395180011062e-05,\n",
       " 0.0010232717446829187,\n",
       " -0.0004905776084875718,\n",
       " 0.00015614640946352842,\n",
       " 0.0023656123193193657,\n",
       " -7.804246066607512e-05,\n",
       " 0.001154026682402276,\n",
       " 0.0005624989209377651,\n",
       " -0.0013580525449470027,\n",
       " 0.0012918374068830313,\n",
       " 0.0006998355520295985,\n",
       " 0.0017873929012115347,\n",
       " 0.00220043113374431,\n",
       " -0.000559648391802503,\n",
       " -0.001075979010877609,\n",
       " 0.0007480902816722756,\n",
       " -0.0004976572704556148,\n",
       " -0.0012340890613441319,\n",
       " 0.0009270232072986773,\n",
       " 5.29171216815949e-05,\n",
       " -0.0005115062167054124,\n",
       " -0.0007592421822580353,\n",
       " 0.001759950814497327,\n",
       " 0.00028014058976064127,\n",
       " -0.0008075276085949684,\n",
       " 0.0013948330587142954,\n",
       " -0.00042196215947064297,\n",
       " 0.00019754147011359635,\n",
       " -0.0017501485262867156,\n",
       " 0.0005486397424565581,\n",
       " -0.00049787385268725,\n",
       " -0.000511465287779761,\n",
       " -0.00016026469312262204,\n",
       " 0.0009958484170596305,\n",
       " -8.462927015424893e-05,\n",
       " 0.00012845874919534261,\n",
       " -0.0014336146369235692,\n",
       " -0.0022597132718238516,\n",
       " -0.00051826867949957,\n",
       " 0.0014430877883569726,\n",
       " -0.0011927895015206164,\n",
       " 0.0001768004528050482,\n",
       " -0.00018806831868019291,\n",
       " 0.0013539052699655524,\n",
       " -9.158955608910835e-05,\n",
       " 0.0011816120203562985,\n",
       " 0.0005278492693628345,\n",
       " 0.0001491571322063262,\n",
       " -4.3544587190469386e-05,\n",
       " 0.00010124859305989109,\n",
       " 0.0005003031549625503,\n",
       " -0.0015919532072250497,\n",
       " -0.000587061487194368,\n",
       " -0.001646912417017185,\n",
       " -0.00011914760809268732,\n",
       " -0.0021288321365837137,\n",
       " 0.0015740831835145963,\n",
       " -3.6898089685696855e-05,\n",
       " 0.000589872792775864,\n",
       " -0.00022247921818878413,\n",
       " -0.00040157244877403464,\n",
       " 0.0003215390611545077,\n",
       " -0.0011649278933183599,\n",
       " -0.0006283184127203328,\n",
       " 0.0007961079646204711,\n",
       " 0.0009064476110646896,\n",
       " -0.0013163539280982572,\n",
       " -0.0005460160277843407,\n",
       " 0.0009751039890072699,\n",
       " -0.0004358673829932269,\n",
       " -0.00048401126346223067,\n",
       " 0.0012436645350916847,\n",
       " -0.0016539340963405424,\n",
       " -0.0015506587635172459,\n",
       " -0.00022931501197473447,\n",
       " -0.00029091901389974306,\n",
       " 0.0005141077615428979,\n",
       " -0.000346273869973282,\n",
       " -0.001302776135980982,\n",
       " 0.0010166218364343338,\n",
       " 0.0004866042814401922,\n",
       " -0.0017987119282437541,\n",
       " 0.0010785106354670726,\n",
       " -0.000669684482048058,\n",
       " 0.001470770332509433,\n",
       " 0.0004864985483822304,\n",
       " -0.0023285146063781736,\n",
       " -0.0004629564577235956,\n",
       " -0.0003945388318473686,\n",
       " 0.0003488992900173987,\n",
       " 0.00023187733325845394,\n",
       " -0.00016076266171820286,\n",
       " -0.0017365008139214322,\n",
       " 0.000824088948855925,\n",
       " -0.00011942558371282053,\n",
       " 0.0014364515230836233,\n",
       " 0.0005829721948576172,\n",
       " 0.0014157633723040353,\n",
       " -0.0004147409516346706,\n",
       " 0.0012159444727573437,\n",
       " -0.0008829873782573716,\n",
       " 0.00010809632444917783,\n",
       " 0.000982400233206962,\n",
       " -0.0005113834299284165,\n",
       " 0.00019065792591435593,\n",
       " 0.0004452023993024995,\n",
       " -0.0014405356993046764,\n",
       " -0.0004908743431986246,\n",
       " -0.0007042642133749805,\n",
       " 0.0013608638505285126,\n",
       " 0.0007961727687527814,\n",
       " -0.0006354952808868136,\n",
       " 0.0014156763983370069,\n",
       " -0.0017986778208057136,\n",
       " -0.0012893091930373801,\n",
       " -0.0015643150027420394,\n",
       " -2.2670550873502004e-05,\n",
       " -0.001068798731967316,\n",
       " 0.00135372620591577,\n",
       " -0.0005664551942661245,\n",
       " -0.00018104663935683551,\n",
       " 0.0022898080645326196,\n",
       " 0.002585672562207139,\n",
       " 0.0017324473343946073,\n",
       " -0.00010536176060328695,\n",
       " 0.002276058029853173,\n",
       " 0.00019056071971590427,\n",
       " -0.0007591739673819403,\n",
       " -0.0018190658261304227,\n",
       " 3.214370230690544e-05,\n",
       " 0.00029363140791088815,\n",
       " -0.0002911134262966325,\n",
       " 0.0005486533854317799,\n",
       " -0.0005595938199016159,\n",
       " -0.00318887747880342,\n",
       " 0.0008994446908322656,\n",
       " 0.00010109852033246547,\n",
       " -0.0006700801283294616,\n",
       " -0.0008554566122042362,\n",
       " 0.0003695277527803742,\n",
       " 0.0013538984484779415,\n",
       " 0.0006450571116591447,\n",
       " 0.00047927563517437266,\n",
       " 0.001608519663601718,\n",
       " -0.0012067049572746236,\n",
       " -0.0011241945169665202,\n",
       " 3.9167087002148215e-05,\n",
       " 0.0008995828259563826,\n",
       " -0.0002086677901208256,\n",
       " 0.000713577059849535,\n",
       " -0.000820900756083931,\n",
       " -0.0011932789432566732,\n",
       " 0.0018974136431099409,\n",
       " -0.0023767301124670848,\n",
       " -0.0008005093400154234,\n",
       " -3.64103533215393e-05,\n",
       " 0.0008376428657665552,\n",
       " 0.0013194909597131627,\n",
       " 0.0017392285562796983,\n",
       " 0.0011335892212923915,\n",
       " -0.00021540296696453964,\n",
       " -0.0014061827824407708,\n",
       " 0.00023215360350667402,\n",
       " 6.674560346857372e-05,\n",
       " -0.0027344561232238856,\n",
       " 0.0020352363051940325,\n",
       " -0.0015713639680158403,\n",
       " -0.0002084597347487005,\n",
       " 0.0013673381054710998,\n",
       " -0.0015026342590814257]"
      ]
     },
     "execution_count": 144,
     "metadata": {},
     "output_type": "execute_result"
    }
   ],
   "source": [
    "p_differences"
   ]
  },
  {
   "cell_type": "code",
   "execution_count": 145,
   "metadata": {},
   "outputs": [],
   "source": [
    "p_differences = np.array(p_differences)"
   ]
  },
  {
   "cell_type": "code",
   "execution_count": 146,
   "metadata": {},
   "outputs": [
    {
     "data": {
      "text/plain": [
       "array([ 1.91109717e-03,  1.21564973e-04, -5.87262721e-04, -6.40673169e-05,\n",
       "        1.08545557e-03,  4.58971477e-05, -7.59063118e-04,  9.34128450e-04,\n",
       "       -2.65868257e-03, -1.42674985e-03,  5.75797032e-04, -6.00985470e-04,\n",
       "       -3.59988092e-04,  3.21331006e-04,  4.17446524e-04,  1.15453829e-03,\n",
       "       -6.21538896e-04,  3.23268649e-03, -3.63711298e-05,  1.53961771e-03,\n",
       "        1.83536113e-03,  2.00770724e-03,  2.28987457e-03,  1.13873367e-05,\n",
       "        1.25057366e-03, -3.46454639e-04, -1.39917475e-03, -1.39924126e-03,\n",
       "        1.71196212e-03,  2.66839106e-03, -1.64007151e-03,  7.48034004e-04,\n",
       "       -4.56529953e-04,  1.62919758e-03,  2.04176854e-03,  4.24524481e-04,\n",
       "       -2.29294548e-04,  1.04401447e-03,  1.97468139e-04,  1.26419238e-03,\n",
       "       -2.03239942e-03,  2.38776226e-04, -3.18625433e-04, -4.15305430e-04,\n",
       "        1.14695072e-04, -2.53493225e-03,  3.90410316e-04,  9.33920394e-04,\n",
       "        3.48771387e-04, -1.87971112e-04,  1.35349939e-03, -4.69961083e-04,\n",
       "       -1.66743003e-03, -5.72332285e-05,  1.20241614e-03, -1.14474283e-03,\n",
       "        3.42116363e-04,  1.78747817e-03,  1.39516220e-03,  5.28557283e-05,\n",
       "        3.55905621e-04,  4.72774094e-04,  5.00122386e-04,  2.86935455e-04,\n",
       "        8.37462096e-04,  1.28335962e-04, -1.57105018e-03,  5.14037841e-04,\n",
       "        1.63326688e-04,  9.82318375e-04,  2.26231482e-03, -7.18087579e-04,\n",
       "        2.06247886e-03, -6.21421226e-04, -8.85571206e-06,  1.73214207e-03,\n",
       "       -1.30975689e-03, -1.17199050e-03, -2.33538280e-03, -1.34420701e-03,\n",
       "        6.51805931e-04,  2.04898634e-03, -1.59235056e-03, -7.38676818e-04,\n",
       "        1.04406051e-03,  5.21086807e-04, -1.19151019e-04, -2.14282092e-03,\n",
       "        1.64974419e-03,  3.92847577e-05,  8.72113453e-04,  8.44488892e-04,\n",
       "       -1.99123117e-03, -6.00980354e-04,  1.58766950e-03,  1.11273394e-03,\n",
       "        1.49539136e-04,  1.70215349e-04, -4.97582234e-04,  1.92496828e-03,\n",
       "       -5.69586636e-05, -2.95830864e-05,  1.56681764e-03,  4.45280846e-04,\n",
       "        3.08103535e-03,  2.22104595e-03,  5.30910696e-05,  2.59355233e-04,\n",
       "        2.31713419e-03,  1.39518437e-03, -7.38431245e-04, -5.05747934e-05,\n",
       "       -1.04834933e-03, -1.22042430e-03, -6.14853175e-04,  8.74167005e-05,\n",
       "        2.12453820e-03,  6.23966493e-04, -9.93055871e-04,  2.15228384e-03,\n",
       "       -2.29151296e-04, -1.46579463e-04,  1.47050429e-03,  1.51891080e-03,\n",
       "       -2.14260946e-03,  5.14005439e-04,  2.64772678e-03,  1.24372081e-03,\n",
       "        1.14043013e-03,  8.30626303e-04, -1.19276051e-03,  8.02996625e-04,\n",
       "        9.54333980e-04,  5.62207302e-04, -2.01852461e-04, -3.66359645e-03,\n",
       "       -2.15648541e-04, -2.24593084e-03, -2.84414062e-04,  4.24548356e-04,\n",
       "        2.48238188e-03,  1.38136782e-03,  7.89294341e-04, -1.19957243e-03,\n",
       "        1.42382732e-04,  3.83424449e-04, -3.46239763e-04, -1.05503847e-03,\n",
       "       -5.45835258e-04,  3.21262791e-04,  2.51004226e-03, -6.14662173e-04,\n",
       "        5.48428276e-04,  3.42167524e-04, -1.88796778e-03, -2.77460598e-04,\n",
       "        6.65451938e-04,  8.16891616e-04, -2.07405881e-03, -1.00005026e-03,\n",
       "       -3.18627139e-04,  7.48061290e-04,  1.56026323e-03, -3.94566118e-04,\n",
       "        1.30550899e-03, -4.77185702e-04, -2.49636508e-04, -2.29398945e-03,\n",
       "       -3.25626648e-04, -1.21346060e-03,  1.50513348e-03,  1.60157814e-03,\n",
       "       -2.08741121e-04,  1.35363071e-03,  7.68870523e-04,  9.88934176e-04,\n",
       "       -1.37176506e-03, -8.62355505e-04,  7.75673914e-04, -5.94030300e-04,\n",
       "       -1.81920396e-03,  7.61818147e-04, -1.30968185e-03,  4.17695508e-04,\n",
       "        2.70299808e-03,  1.45011288e-03, -6.48934938e-04,  4.24592696e-04,\n",
       "        1.65689036e-03,  1.35586162e-04, -1.81890723e-03, -5.70012979e-05,\n",
       "       -2.90003125e-03, -4.28579666e-04,  1.88370624e-03,  5.07348709e-04,\n",
       "       -1.27527436e-03,  1.57426395e-03, -8.21188964e-04, -9.84100015e-05,\n",
       "        1.07958189e-04, -1.55758494e-03,  1.76701541e-04,  1.84956991e-03,\n",
       "        2.19371131e-03,  3.48996496e-04,  3.14733964e-04,  1.31941081e-03,\n",
       "       -2.46601325e-03,  1.06483734e-03,  1.07150089e-03, -4.56494140e-04,\n",
       "        4.58867165e-04,  1.33317960e-03, -4.90760083e-04, -2.77515170e-04,\n",
       "        1.85623346e-03, -7.04238633e-04,  1.93887521e-03,  1.62224071e-03,\n",
       "        6.45086103e-04,  3.76942388e-03, -3.73837038e-04, -2.57055539e-04,\n",
       "       -6.00596645e-04,  5.14078770e-04, -9.45012607e-04,  1.88384438e-03,\n",
       "        2.80162760e-04,  1.64982093e-03,  8.99342369e-04,  8.58564652e-04,\n",
       "       -1.03504099e-03, -4.97631690e-04,  1.84934139e-03,  1.25740945e-03,\n",
       "        6.93049214e-04,  3.90176680e-04,  2.56500488e-03, -2.43166715e-03,\n",
       "       -1.41990212e-03, -1.36495655e-03, -2.35925697e-04,  1.00934435e-03,\n",
       "       -9.44799436e-04,  2.87483599e-03,  8.04734683e-05, -1.58509013e-03,\n",
       "       -6.28574219e-04, -1.72975711e-03,  2.53060421e-03, -2.95762649e-05,\n",
       "       -9.24222134e-04,  1.23683215e-03, -1.25487101e-03, -1.71607700e-03,\n",
       "        1.56303304e-04, -7.72808037e-04, -6.69699830e-04,  1.73913476e-03,\n",
       "       -3.73715957e-04, -8.96872137e-04, -2.28990707e-05,  7.96592290e-04,\n",
       "       -1.22038507e-03, -2.84255463e-04,  6.03580193e-04,  5.48332776e-04,\n",
       "        1.16093069e-03,  1.50497659e-03, -9.58805276e-04, -5.11613655e-04,\n",
       "        1.47774426e-03,  4.31402909e-04,  1.51214834e-03, -1.67117541e-04,\n",
       "       -2.21603604e-06,  1.77339218e-03, -2.49355595e-03,  1.67054319e-03,\n",
       "        1.10594931e-03, -9.31184125e-04, -6.00891674e-04,  4.60625688e-05,\n",
       "        1.11290448e-03, -7.45539898e-04, -2.16298382e-03,  1.38145991e-03,\n",
       "       -1.65364418e-03, -1.32674239e-04, -5.25232376e-04,  4.31401203e-04,\n",
       "        5.62249937e-04, -1.24770437e-03,  5.07178172e-04,  1.88609395e-05,\n",
       "       -1.17917590e-03,  1.70181241e-04,  5.20899216e-04, -5.73456409e-04,\n",
       "       -5.11025302e-04,  1.57403373e-03, -1.74326157e-03,  1.15087307e-04,\n",
       "        1.16109611e-03, -2.33522079e-03,  1.01055886e-04,  3.35555134e-04,\n",
       "       -7.52165931e-04, -1.53422078e-04, -1.20674589e-03,  1.22947451e-03,\n",
       "        7.34452802e-04,  1.67030785e-03,  2.00046216e-03, -6.42406111e-04,\n",
       "       -6.76291756e-04,  8.58206524e-04, -1.79181474e-03, -2.27165959e-05,\n",
       "        6.79094535e-04, -1.08263745e-03,  5.89804578e-04,  1.47772550e-03,\n",
       "       -1.77769294e-03,  1.67031637e-03,  2.38800101e-04,  8.99431048e-04,\n",
       "       -1.12389096e-03, -1.56421609e-03, -1.40635332e-03, -5.04614146e-04,\n",
       "       -1.33156859e-04,  7.38849535e-05, -1.26170339e-03, -1.22714242e-03,\n",
       "       -1.65388976e-03,  3.14321065e-03,  2.36553728e-03, -6.62956127e-04,\n",
       "       -1.06213006e-03, -7.45621756e-04, -6.90517589e-04,  1.35545233e-04,\n",
       "       -3.53058503e-04,  4.65904193e-04, -2.34234138e-03, -5.45807972e-04,\n",
       "       -4.21897355e-04, -1.54365414e-03, -7.31730175e-04,  1.08115084e-04,\n",
       "        2.42054083e-03,  8.78637164e-04, -3.45722656e-03,  2.40011360e-03,\n",
       "        1.46359517e-03,  8.51380963e-04, -2.37652376e-03, -4.49267816e-04,\n",
       "       -7.04146543e-04, -1.62642038e-03, -1.06884307e-03, -5.80230810e-04,\n",
       "        1.25029057e-03, -4.63246371e-04, -9.24467708e-04, -9.88278176e-05,\n",
       "       -6.00623931e-04, -2.41791882e-03,  1.22294228e-03,  8.78603057e-04,\n",
       "       -1.15154110e-03, -4.77011754e-04, -1.17243560e-03, -1.31671206e-03,\n",
       "       -6.43026582e-05, -2.39715734e-03, -6.28470191e-04,  1.28886798e-04,\n",
       "       -2.30796289e-03,  7.96391056e-04,  6.17047136e-04,  9.54727921e-04,\n",
       "        1.35381830e-03, -8.41614487e-04,  4.52462831e-04,  2.38742118e-04,\n",
       "       -2.42862107e-04, -2.43859333e-03,  3.22592062e-03, -1.03470674e-03,\n",
       "       -2.15297234e-04, -5.04093723e-05,  5.76078418e-04, -9.51897857e-04,\n",
       "        1.34690917e-03, -1.79179428e-03, -1.61951126e-03, -3.87414830e-04,\n",
       "        4.65687611e-04,  8.30786608e-04, -3.46369371e-04,  1.91118244e-03,\n",
       "       -9.03753976e-04,  1.15459362e-05, -3.46142556e-04, -3.11866381e-04,\n",
       "       -2.77574858e-04,  3.48774798e-04, -1.13069947e-03, -1.73669864e-03,\n",
       "       -2.30769855e-03, -1.19289353e-03, -9.45082527e-04,  2.11056163e-04,\n",
       "       -1.81210554e-03, -9.93132612e-04,  1.34677445e-03, -1.80545563e-03,\n",
       "       -1.70889842e-03,  3.07727633e-04,  8.71847700e-05, -3.19041544e-04,\n",
       "       -7.24882444e-04, -2.98008908e-04,  4.57760663e-05, -1.65424106e-03,\n",
       "       -1.61954025e-03, -4.08140499e-04, -4.35471737e-04, -8.41885642e-04,\n",
       "       -2.29411053e-03, -9.86172326e-04,  2.45898522e-04,  1.35386946e-03,\n",
       "       -2.56738340e-04, -1.62640162e-03, -3.67701868e-05,  1.25748790e-03,\n",
       "        1.79420823e-03,  4.17963252e-04,  4.60932655e-05, -6.63078913e-04,\n",
       "       -3.73722778e-04,  1.51188230e-03,  5.76173919e-04,  1.35702127e-04,\n",
       "       -2.43056520e-04, -2.23138439e-06,  1.80787300e-03,  3.14193361e-04,\n",
       "        1.80123673e-03,  1.45687534e-03,  8.30675758e-04, -1.04147602e-03,\n",
       "        3.97314325e-04,  3.76387422e-04,  1.66378925e-03,  1.78043432e-03,\n",
       "       -1.96364100e-06, -1.53692578e-03,  7.48001602e-04,  6.17384800e-04,\n",
       "        3.69553333e-04, -1.29619956e-03,  3.62533359e-04, -2.05327516e-03,\n",
       "        1.14038920e-03, -1.04152718e-03, -4.70167433e-04, -2.49870144e-04,\n",
       "       -2.19749363e-03, -7.65958600e-04,  8.44465017e-04,  5.34565687e-04,\n",
       "       -4.49226888e-04,  5.20877046e-04, -6.76791430e-04, -4.42640078e-04,\n",
       "        3.42056675e-04, -1.77079234e-03,  9.33795902e-04,  9.33978377e-04,\n",
       "        4.88920650e-06,  2.66405903e-04, -3.60114289e-04, -1.04143850e-03,\n",
       "        4.86711720e-04,  1.11290789e-03, -1.44757614e-03,  4.81417014e-06,\n",
       "        3.90152805e-04,  1.57382397e-03,  1.15595792e-05,  1.21933333e-04,\n",
       "        1.49152840e-03,  6.79398091e-04,  9.68416563e-04, -9.31214822e-04,\n",
       "        6.38004736e-04,  4.86192055e-06, -1.38561060e-03,  2.09720867e-03,\n",
       "        1.44298547e-03,  1.76679002e-03,  1.19559569e-03,  1.09185479e-03,\n",
       "        3.21317647e-05,  2.02845849e-03, -1.96339173e-03,  2.54562759e-05,\n",
       "        1.16098015e-03, -1.48866253e-03, -3.25452700e-04, -1.32631605e-04,\n",
       "       -2.17718578e-03, -8.92904305e-06, -6.49110591e-04,  6.92662095e-04,\n",
       "        1.52609620e-03, -7.18179669e-04,  8.31177138e-04,  1.28659983e-04,\n",
       "        1.90555604e-04, -2.46612751e-03,  2.13150360e-03,  5.48557885e-04,\n",
       "       -1.39234066e-03,  5.76022141e-04, -1.88806669e-03, -8.55548702e-04,\n",
       "       -1.54384173e-03,  6.65588368e-04, -1.39646463e-04, -9.86027086e-05,\n",
       "        6.03529032e-04, -1.12565915e-04,  2.23478917e-03,  2.66177696e-03,\n",
       "        1.69734434e-04,  1.12653855e-03, -1.41339887e-03, -8.46105111e-05,\n",
       "       -2.26652690e-03, -1.45431131e-03, -2.40429328e-03, -1.05353234e-04,\n",
       "       -6.76607250e-04,  1.33294938e-03, -5.04723289e-04,  9.40853394e-04,\n",
       "       -1.59873443e-03, -7.08826462e-05, -7.45239753e-04,  2.66325751e-04,\n",
       "        1.20923147e-03,  4.60966762e-05, -1.67371641e-04,  3.14546373e-04,\n",
       "        8.37506436e-04, -2.30770537e-03,  8.37339310e-04, -3.73514723e-04,\n",
       "       -1.45418512e-03, -9.79616214e-04, -3.34704551e-03,  1.25046281e-03,\n",
       "        1.56026834e-03,  1.57408659e-03,  2.71670036e-03, -1.72963773e-03,\n",
       "       -1.36498554e-03, -1.28901587e-03,  9.06527764e-04,  9.43633435e-05,\n",
       "        1.38811152e-03, -9.79646910e-04, -1.03450380e-03, -8.48765775e-04,\n",
       "        1.63116928e-04, -3.80705234e-04,  4.91990320e-06, -9.72659338e-04,\n",
       "       -2.91149239e-04,  3.91466225e-05,  1.87002442e-03, -7.24919962e-04,\n",
       "        2.31890976e-04,  2.31734224e-03,  2.11410881e-04, -5.86918236e-04,\n",
       "       -1.70910307e-03, -2.56856010e-04,  1.03007173e-03,  2.52729200e-04,\n",
       "        1.50547797e-03,  7.20472542e-04, -9.24616075e-04,  1.27129251e-03,\n",
       "        8.51193372e-04,  2.52517734e-04,  3.55960193e-04, -2.64534864e-03,\n",
       "       -9.72550195e-04, -5.04673549e-05, -1.07549298e-03, -7.24647103e-04,\n",
       "        1.14799099e-04,  1.03710534e-03,  2.06280800e-03,  5.21073164e-04,\n",
       "       -1.04143850e-03,  3.96923794e-04, -6.62807759e-04,  6.78947873e-04,\n",
       "       -1.20663674e-03,  1.82864301e-03,  2.01482442e-03,  1.92496317e-03,\n",
       "       -8.76228326e-04, -2.35797794e-04, -9.72575775e-04,  8.92861292e-04,\n",
       "       -1.21332928e-03,  1.08540782e-03,  1.59484467e-03, -4.76926485e-04,\n",
       "        2.07622378e-03, -3.60269478e-04,  1.14908243e-04,  3.69631780e-04,\n",
       "       -2.21835232e-03,  1.38835539e-03, -1.62627543e-03, -2.23906434e-03,\n",
       "        9.47549348e-04, -2.29231449e-04, -5.68802165e-05, -7.17964792e-04,\n",
       "        1.03022691e-03,  2.04271531e-04,  1.43619913e-03, -6.76660116e-04,\n",
       "        1.64972543e-03, -1.42702101e-03, -1.11682153e-03, -1.13770409e-03,\n",
       "        1.84223103e-03,  1.36075471e-03,  2.71654858e-03,  3.21471131e-05,\n",
       "       -6.28673130e-04, -2.26228005e-05, -1.67144827e-04, -9.93040522e-04,\n",
       "        1.16794043e-03, -7.52131824e-04,  1.12004724e-03, -1.61276244e-03,\n",
       "       -2.28019848e-03, -1.61262430e-03, -8.69252692e-04,  1.07985475e-04,\n",
       "        2.73698434e-03,  4.72707585e-04,  4.17536909e-04, -5.70712182e-05,\n",
       "        1.32648365e-03,  1.75978710e-03, -5.66415971e-04,  1.01130922e-04,\n",
       "        1.94569566e-03,  3.83305073e-04, -7.80012191e-04,  5.69080614e-04,\n",
       "       -7.10258975e-05, -1.84649427e-03, -3.94504724e-04, -8.46002788e-05,\n",
       "        7.27223067e-04, -1.00709582e-03,  8.37574651e-04, -2.97964568e-04,\n",
       "       -1.00004685e-03, -1.27559497e-03,  3.28313462e-04,  4.10883590e-04,\n",
       "        4.59003595e-04, -3.52869206e-04, -1.57137761e-03,  1.28590063e-04,\n",
       "        1.20233087e-03, -1.00700543e-03, -1.01363147e-03, -1.32378660e-03,\n",
       "        7.00072599e-04,  1.45706293e-03, -1.68831430e-03, -2.30784521e-03,\n",
       "       -4.31438248e-05,  1.30551923e-03, -6.14679227e-04,  2.80277020e-04,\n",
       "       -5.70200570e-05, -6.21291617e-04, -1.44721801e-03, -8.07447456e-04,\n",
       "        1.07907028e-04, -7.79537813e-05, -2.50056029e-04, -9.58685900e-04,\n",
       "       -2.08755645e-03, -2.07376208e-03,  7.20620909e-04, -4.01393385e-04,\n",
       "       -2.23191476e-03,  1.83532219e-04,  2.52415411e-04, -1.44746358e-03,\n",
       "        9.68419973e-04,  1.20233769e-03, -8.14279839e-04,  1.42946225e-03,\n",
       "       -1.08943743e-03,  1.06452355e-03, -2.29383227e-04,  6.37771100e-04,\n",
       "        3.69442484e-04,  1.64953613e-03, -1.36490028e-03, -9.31126143e-04,\n",
       "        9.47591982e-04, -2.25263361e-03,  1.09919708e-03, -3.05334144e-04,\n",
       "        2.11407470e-04,  1.47747481e-03, -1.71570352e-03, -2.01478984e-04,\n",
       "       -6.97527331e-04,  2.45743333e-04, -3.11775996e-04, -6.21854390e-04,\n",
       "       -1.81232042e-03,  1.45694526e-03,  2.45734806e-04, -3.73582938e-04,\n",
       "       -8.69203236e-04, -1.22033391e-03, -3.94419456e-04, -2.42930322e-04,\n",
       "        1.85539726e-05,  1.07838813e-04,  7.00024848e-04, -2.77508348e-04,\n",
       "       -3.73840449e-04, -1.07554755e-03, -1.31685190e-03, -3.09950225e-03,\n",
       "       -1.22695483e-03, -3.60015378e-04, -2.15570093e-04, -8.41701461e-04,\n",
       "       -3.25705095e-04, -5.66591624e-04,  1.98008098e-03,  4.04220039e-04,\n",
       "        1.97305418e-03, -1.25947589e-04,  8.85539467e-04, -2.44547005e-03,\n",
       "       -9.03755682e-04, -1.57160443e-03,  5.41551554e-04, -5.80428633e-04,\n",
       "        3.22340870e-05, -8.20955328e-04,  5.28864250e-05,  6.24094396e-04,\n",
       "       -2.02558921e-03,  5.28693713e-05, -1.41972988e-03,  2.24888056e-04,\n",
       "       -4.01325170e-04,  2.18204040e-04, -1.53173094e-04, -2.77598079e-03,\n",
       "        1.82189419e-03, -1.13775867e-03,  8.51135389e-04,  1.50519658e-03,\n",
       "       -4.56482203e-04,  6.17159691e-04, -1.84632203e-03, -1.33034613e-03,\n",
       "       -2.30799188e-03, -7.09474504e-05,  4.59063283e-04, -1.98434081e-03,\n",
       "       -1.13776208e-03,  1.35598099e-04, -2.00493005e-03,  2.44786866e-03,\n",
       "        1.44323616e-03, -7.73167870e-04,  3.76593772e-04,  5.75962453e-04,\n",
       "       -2.49668910e-04, -8.76233442e-04,  5.08702964e-06,  2.31860280e-04,\n",
       "       -1.42715232e-03, -7.31690952e-04, -4.37100083e-05, -2.54876756e-03,\n",
       "       -2.49941769e-04, -1.01391285e-03,  2.04491524e-04,  1.91808133e-03,\n",
       "       -1.92279138e-03,  2.46881603e-03, -3.18700470e-04,  7.20373630e-04,\n",
       "        1.35396325e-03, -1.86746381e-03, -2.22177367e-04, -1.30304217e-03,\n",
       "        9.75375143e-04, -4.32956029e-05,  7.36939518e-05,  1.02327174e-03,\n",
       "       -4.90577608e-04,  1.56146409e-04,  2.36561232e-03, -7.80424607e-05,\n",
       "        1.15402668e-03,  5.62498921e-04, -1.35805254e-03,  1.29183741e-03,\n",
       "        6.99835552e-04,  1.78739290e-03,  2.20043113e-03, -5.59648392e-04,\n",
       "       -1.07597901e-03,  7.48090282e-04, -4.97657270e-04, -1.23408906e-03,\n",
       "        9.27023207e-04,  5.29171217e-05, -5.11506217e-04, -7.59242182e-04,\n",
       "        1.75995081e-03,  2.80140590e-04, -8.07527609e-04,  1.39483306e-03,\n",
       "       -4.21962159e-04,  1.97541470e-04, -1.75014853e-03,  5.48639742e-04,\n",
       "       -4.97873853e-04, -5.11465288e-04, -1.60264693e-04,  9.95848417e-04,\n",
       "       -8.46292702e-05,  1.28458749e-04, -1.43361464e-03, -2.25971327e-03,\n",
       "       -5.18268679e-04,  1.44308779e-03, -1.19278950e-03,  1.76800453e-04,\n",
       "       -1.88068319e-04,  1.35390527e-03, -9.15895561e-05,  1.18161202e-03,\n",
       "        5.27849269e-04,  1.49157132e-04, -4.35445872e-05,  1.01248593e-04,\n",
       "        5.00303155e-04, -1.59195321e-03, -5.87061487e-04, -1.64691242e-03,\n",
       "       -1.19147608e-04, -2.12883214e-03,  1.57408318e-03, -3.68980897e-05,\n",
       "        5.89872793e-04, -2.22479218e-04, -4.01572449e-04,  3.21539061e-04,\n",
       "       -1.16492789e-03, -6.28318413e-04,  7.96107965e-04,  9.06447611e-04,\n",
       "       -1.31635393e-03, -5.46016028e-04,  9.75103989e-04, -4.35867383e-04,\n",
       "       -4.84011263e-04,  1.24366454e-03, -1.65393410e-03, -1.55065876e-03,\n",
       "       -2.29315012e-04, -2.90919014e-04,  5.14107762e-04, -3.46273870e-04,\n",
       "       -1.30277614e-03,  1.01662184e-03,  4.86604281e-04, -1.79871193e-03,\n",
       "        1.07851064e-03, -6.69684482e-04,  1.47077033e-03,  4.86498548e-04,\n",
       "       -2.32851461e-03, -4.62956458e-04, -3.94538832e-04,  3.48899290e-04,\n",
       "        2.31877333e-04, -1.60762662e-04, -1.73650081e-03,  8.24088949e-04,\n",
       "       -1.19425584e-04,  1.43645152e-03,  5.82972195e-04,  1.41576337e-03,\n",
       "       -4.14740952e-04,  1.21594447e-03, -8.82987378e-04,  1.08096324e-04,\n",
       "        9.82400233e-04, -5.11383430e-04,  1.90657926e-04,  4.45202399e-04,\n",
       "       -1.44053570e-03, -4.90874343e-04, -7.04264213e-04,  1.36086385e-03,\n",
       "        7.96172769e-04, -6.35495281e-04,  1.41567640e-03, -1.79867782e-03,\n",
       "       -1.28930919e-03, -1.56431500e-03, -2.26705509e-05, -1.06879873e-03,\n",
       "        1.35372621e-03, -5.66455194e-04, -1.81046639e-04,  2.28980806e-03,\n",
       "        2.58567256e-03,  1.73244733e-03, -1.05361761e-04,  2.27605803e-03,\n",
       "        1.90560720e-04, -7.59173967e-04, -1.81906583e-03,  3.21437023e-05,\n",
       "        2.93631408e-04, -2.91113426e-04,  5.48653385e-04, -5.59593820e-04,\n",
       "       -3.18887748e-03,  8.99444691e-04,  1.01098520e-04, -6.70080128e-04,\n",
       "       -8.55456612e-04,  3.69527753e-04,  1.35389845e-03,  6.45057112e-04,\n",
       "        4.79275635e-04,  1.60851966e-03, -1.20670496e-03, -1.12419452e-03,\n",
       "        3.91670870e-05,  8.99582826e-04, -2.08667790e-04,  7.13577060e-04,\n",
       "       -8.20900756e-04, -1.19327894e-03,  1.89741364e-03, -2.37673011e-03,\n",
       "       -8.00509340e-04, -3.64103533e-05,  8.37642866e-04,  1.31949096e-03,\n",
       "        1.73922856e-03,  1.13358922e-03, -2.15402967e-04, -1.40618278e-03,\n",
       "        2.32153604e-04,  6.67456035e-05, -2.73445612e-03,  2.03523631e-03,\n",
       "       -1.57136397e-03, -2.08459735e-04,  1.36733811e-03, -1.50263426e-03])"
      ]
     },
     "execution_count": 146,
     "metadata": {},
     "output_type": "execute_result"
    }
   ],
   "source": [
    "p_differences"
   ]
  },
  {
   "cell_type": "markdown",
   "metadata": {},
   "source": [
    "ploting a histogram of the p_differences"
   ]
  },
  {
   "cell_type": "code",
   "execution_count": 148,
   "metadata": {},
   "outputs": [
    {
     "data": {
      "image/png": "[encoded data removed]",
      "text/plain": [
       "<Figure size 432x288 with 1 Axes>"
      ]
     },
     "metadata": {
      "needs_background": "light"
     },
     "output_type": "display_data"
    }
   ],
   "source": [
    "plt.hist(p_differences)\n",
    "observation_differences=obs_new-obs_old\n",
    "plt.axvline(x = observation_differences,color='red')\n",
    "plt.show()"
   ]
  },
  {
   "cell_type": "markdown",
   "metadata": {},
   "source": [
    "proportion of the p_differences are greater than the actual difference "
   ]
  },
  {
   "cell_type": "code",
   "execution_count": 149,
   "metadata": {},
   "outputs": [
    {
     "data": {
      "text/plain": [
       "0.895"
      ]
     },
     "execution_count": 149,
     "metadata": {},
     "output_type": "execute_result"
    }
   ],
   "source": [
    "(p_differences>observation_differences).mean()"
   ]
  },
  {
   "cell_type": "code",
   "execution_count": 150,
   "metadata": {},
   "outputs": [],
   "source": [
    "import statsmodels.api as sm\n",
    "\n",
    "convert_old = df.query('landing_page == \"old_page\"')['converted'].sum()\n",
    "convert_new = df.query('landing_page == \"new_page\"')['converted'].sum()\n"
   ]
  },
  {
   "cell_type": "code",
   "execution_count": 151,
   "metadata": {},
   "outputs": [
    {
     "data": {
      "text/plain": [
       "(-1.394390551291367, 0.9184001500898661)"
      ]
     },
     "execution_count": 151,
     "metadata": {},
     "output_type": "execute_result"
    }
   ],
   "source": [
    "z_score, p_value = sm.stats.proportions_ztest\\\n",
    "([convert_new,convert_old],[n_new, n_old],alternative='larger')\n",
    "(z_score, p_value)"
   ]
  },
  {
   "cell_type": "markdown",
   "metadata": {},
   "source": [
    "p-value = 0.91 \n",
    "\n",
    "p-value = 0.05\n",
    "\n",
    "\n",
    "we would fail to reject the null hypotesis. The old pages have a higher than or equal to conversion rates than the new pages"
   ]
  },
  {
   "cell_type": "code",
   "execution_count": null,
   "metadata": {},
   "outputs": [],
   "source": []
  }
 ],
 "metadata": {
  "kernelspec": {
   "display_name": "Python 3",
   "language": "python",
   "name": "python3"
  },
  "language_info": {
   "codemirror_mode": {
    "name": "ipython",
    "version": 3
   },
   "file_extension": ".py",
   "mimetype": "text/x-python",
   "name": "python",
   "nbconvert_exporter": "python",
   "pygments_lexer": "ipython3",
   "version": "3.7.3"
  }
 },
 "nbformat": 4,
 "nbformat_minor": 2
}
